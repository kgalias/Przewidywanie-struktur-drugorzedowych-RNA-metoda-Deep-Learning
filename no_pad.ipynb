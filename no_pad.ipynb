{
 "cells": [
  {
   "cell_type": "code",
   "execution_count": 70,
   "metadata": {
    "collapsed": true
   },
   "outputs": [],
   "source": [
    "# %load no_pad.py\n",
    "def categorical_crossentropy_no_pad(y_true, y_pred):\n",
    "    original_pad = y_true.shape[1]\n",
    "    loss = K.zeros_like(y_true[:, :, 0])\n",
    "   \n",
    "    y_true = y_true.reshape((-1, no_of_labels))\n",
    "    y_pred = y_pred.reshape((-1, no_of_labels))\n",
    "    \n",
    "    indices = T.neq(y_true.sum(axis=1), 0)\n",
    "    \n",
    "    loss = indices * K.categorical_crossentropy(y_pred, y_true)\n",
    "    loss = loss.reshape((-1, original_pad)).mean(axis=1)\n",
    "    \n",
    "    return loss    \n",
    "\n",
    "def categorical_accuracy_no_pad(y_true, y_pred):\n",
    "    \n",
    "    y_true = y_true.reshape((-1, no_of_labels))\n",
    "    y_pred = y_pred.reshape((-1, no_of_labels))\n",
    "    zero_indices = T.eq(y_true.sum(axis=1), 0)\n",
    "   \n",
    "    aa = K.argmax(y_true, axis=1)\n",
    "    bb = K.argmax(y_pred, axis=1)\n",
    "\n",
    "    no_of_padding = zero_indices.sum()\n",
    "    \n",
    "    return (K.sum(K.equal(aa, bb)) - no_of_padding)/(y_true.shape[0] - no_of_padding)"
   ]
  },
  {
   "cell_type": "code",
   "execution_count": 43,
   "metadata": {
    "collapsed": true
   },
   "outputs": [],
   "source": [
    "import numpy as np\n",
    "from keras import backend as K\n",
    "from theano import tensor as T\n",
    "no_of_labels = 2"
   ]
  },
  {
   "cell_type": "code",
   "execution_count": 100,
   "metadata": {
    "collapsed": false
   },
   "outputs": [
    {
     "name": "stdout",
     "output_type": "stream",
     "text": [
      "[[[ 0.  0.]\n",
      "  [ 0.  1.]\n",
      "  [ 0.  0.]]\n",
      "\n",
      " [[ 0.  0.]\n",
      "  [ 0.  0.]\n",
      "  [ 0.  1.]]]\n"
     ]
    }
   ],
   "source": [
    "y_t = np.zeros((2, 3, 2))\n",
    "y_t[0, 1, 1] = 1\n",
    "y_t[1, 2, 1] = 1\n",
    "print(y_t)"
   ]
  },
  {
   "cell_type": "code",
   "execution_count": 103,
   "metadata": {
    "collapsed": false
   },
   "outputs": [
    {
     "name": "stdout",
     "output_type": "stream",
     "text": [
      "[[[ 0.  0.]\n",
      "  [ 0.  1.]\n",
      "  [ 0.  0.]]\n",
      "\n",
      " [[ 0.  0.]\n",
      "  [ 0.  1.]\n",
      "  [ 0.  1.]]]\n",
      "[[[ 0.  0.]\n",
      "  [ 0.  1.]\n",
      "  [ 0.  0.]]\n",
      "\n",
      " [[ 0.  0.]\n",
      "  [ 0.  0.]\n",
      "  [ 0.  1.]]]\n"
     ]
    }
   ],
   "source": [
    "y_r = y_t.copy()\n",
    "y_r[1, 1, 1] = 1\n",
    "print(y_r)\n",
    "print(y_t)"
   ]
  },
  {
   "cell_type": "code",
   "execution_count": 104,
   "metadata": {
    "collapsed": false
   },
   "outputs": [
    {
     "name": "stdout",
     "output_type": "stream",
     "text": [
      "0.5\n"
     ]
    }
   ],
   "source": [
    "print(categorical_accuracy_no_pad(y_t, y_r).eval())"
   ]
  },
  {
   "cell_type": "code",
   "execution_count": 105,
   "metadata": {
    "collapsed": false
   },
   "outputs": [
    {
     "name": "stdout",
     "output_type": "stream",
     "text": [
      "[[ 0.  0.]\n",
      " [ 0.  1.]\n",
      " [ 0.  0.]\n",
      " [ 0.  0.]\n",
      " [ 0.  0.]\n",
      " [ 0.  1.]]\n"
     ]
    }
   ],
   "source": [
    "y_t_flat = y_t.reshape((-1, no_of_labels))\n",
    "print(y_t_flat)"
   ]
  },
  {
   "cell_type": "code",
   "execution_count": 124,
   "metadata": {
    "collapsed": false
   },
   "outputs": [
    {
     "name": "stdout",
     "output_type": "stream",
     "text": [
      "2\n",
      "[[ 0.  0.]\n",
      " [ 0.  1.]\n",
      " [ 0.  0.]\n",
      " [ 0.  0.]\n",
      " [ 0.  1.]\n",
      " [ 0.  1.]]\n"
     ]
    }
   ],
   "source": [
    "print(y_r_flat.shape[-1])\n",
    "y_r_flat = y_r.reshape((-1, y_r_flat.shape[-1]))\n",
    "print(y_r_flat)"
   ]
  },
  {
   "cell_type": "code",
   "execution_count": 107,
   "metadata": {
    "collapsed": false
   },
   "outputs": [
    {
     "name": "stdout",
     "output_type": "stream",
     "text": [
      "[1 0 1 1 1 0]\n"
     ]
    }
   ],
   "source": [
    "indices = T.eq(y_t_flat.sum(axis=1), 0)\n",
    "print(indices.eval())"
   ]
  },
  {
   "cell_type": "code",
   "execution_count": 108,
   "metadata": {
    "collapsed": false
   },
   "outputs": [
    {
     "name": "stdout",
     "output_type": "stream",
     "text": [
      "[0 1 0 0 0 1]\n"
     ]
    }
   ],
   "source": [
    "aa = K.argmax(y_t_flat, axis=1)\n",
    "print(aa.eval())"
   ]
  },
  {
   "cell_type": "code",
   "execution_count": 109,
   "metadata": {
    "collapsed": false
   },
   "outputs": [
    {
     "name": "stdout",
     "output_type": "stream",
     "text": [
      "[0 1 0 0 1 1]\n"
     ]
    }
   ],
   "source": [
    "bb = K.argmax(y_r_flat, axis=1)\n",
    "print(bb.eval())"
   ]
  },
  {
   "cell_type": "code",
   "execution_count": 110,
   "metadata": {
    "collapsed": false
   },
   "outputs": [
    {
     "name": "stdout",
     "output_type": "stream",
     "text": [
      "[1 1 1 1 0 1]\n"
     ]
    }
   ],
   "source": [
    "print(K.equal(aa, bb).eval())"
   ]
  },
  {
   "cell_type": "code",
   "execution_count": 111,
   "metadata": {
    "collapsed": false
   },
   "outputs": [
    {
     "name": "stdout",
     "output_type": "stream",
     "text": [
      "4\n"
     ]
    }
   ],
   "source": [
    "print(indices.sum().eval())"
   ]
  },
  {
   "cell_type": "code",
   "execution_count": 113,
   "metadata": {
    "collapsed": false
   },
   "outputs": [
    {
     "name": "stdout",
     "output_type": "stream",
     "text": [
      "1\n"
     ]
    }
   ],
   "source": [
    "print((K.sum(K.equal(aa, bb)) - indices.sum()).eval())"
   ]
  },
  {
   "cell_type": "code",
   "execution_count": 114,
   "metadata": {
    "collapsed": false
   },
   "outputs": [
    {
     "name": "stdout",
     "output_type": "stream",
     "text": [
      "5\n"
     ]
    }
   ],
   "source": [
    "print(K.sum(K.equal(aa, bb)).eval())"
   ]
  },
  {
   "cell_type": "code",
   "execution_count": 115,
   "metadata": {
    "collapsed": false
   },
   "outputs": [
    {
     "name": "stdout",
     "output_type": "stream",
     "text": [
      "6\n"
     ]
    }
   ],
   "source": [
    "print(y_t_flat.shape[0])"
   ]
  },
  {
   "cell_type": "code",
   "execution_count": 116,
   "metadata": {
    "collapsed": false
   },
   "outputs": [
    {
     "name": "stdout",
     "output_type": "stream",
     "text": [
      "0.5\n"
     ]
    }
   ],
   "source": [
    "print(categorical_accuracy_no_pad(y_t, y_r).eval())"
   ]
  },
  {
   "cell_type": "code",
   "execution_count": 119,
   "metadata": {
    "collapsed": false
   },
   "outputs": [
    {
     "name": "stdout",
     "output_type": "stream",
     "text": [
      "[1 0 1 1 1 0]\n"
     ]
    }
   ],
   "source": [
    "zero_indices = K.equal(K.sum(y_t_flat, axis=1), 0)\n",
    "print(zero_indices.eval())"
   ]
  },
  {
   "cell_type": "code",
   "execution_count": null,
   "metadata": {
    "collapsed": true
   },
   "outputs": [],
   "source": []
  }
 ],
 "metadata": {
  "anaconda-cloud": {},
  "kernelspec": {
   "display_name": "Python [default]",
   "language": "python",
   "name": "python3"
  },
  "language_info": {
   "codemirror_mode": {
    "name": "ipython",
    "version": 3
   },
   "file_extension": ".py",
   "mimetype": "text/x-python",
   "name": "python",
   "nbconvert_exporter": "python",
   "pygments_lexer": "ipython3",
   "version": "3.5.2"
  }
 },
 "nbformat": 4,
 "nbformat_minor": 1
}
